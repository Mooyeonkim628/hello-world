{
 "cells": [
  {
   "cell_type": "code",
   "execution_count": 2,
   "metadata": {},
   "outputs": [
    {
     "name": "stdout",
     "output_type": "stream",
     "text": [
      "937\n",
      "0.7430304110448239\n",
      "0.1270582031002217\n",
      "-1.6790910697881314\n",
      "0.09313429638101302\n",
      "899.1778513825785\n"
     ]
    }
   ],
   "source": [
    "import numpy as np\n",
    "from scipy.stats import norm\n",
    "import math\n",
    "import scipy as sp\n",
    "\n",
    "myFile = open('eng1.txt')\n",
    "data = myFile.readlines()\n",
    "myFile.close()\n",
    "data = [float(x) for x in data]\n",
    "\n",
    "#Null hypothesis:The mean engagement of students who become knowledgeable in the material is 0.75\n",
    "#Alternative hypothesis: The mean engagement of students who become knowledgeable in the material is NOT 0.75\n",
    "#z-test can be used because the size is large\n",
    "\n",
    "size=len(data)\n",
    "print(size)\n",
    "avg = np.mean(data)\n",
    "print(avg)\n",
    "sd = np.std(data)\n",
    "print(sd)\n",
    "z=(avg-0.75)/(sd/math.sqrt(size))  #standard score\n",
    "print(z)\n",
    "# compute z = (x - mu) / SE\n",
    "p = 2 * sp.stats.norm.cdf(z) #p score\n",
    "print(p)  #p<0.1, therefore it is significant. However, it is not significant at 0.05 and 0.01. Therefore, we would have rejected the null hypothesis and accpeted the alternative hypothesis at the level of 0.05 and 0.01. However, we fail to rejct the null hypothesis at the level of 0.1\n",
    "\n",
    "\n",
    "z_c=norm.ppf(0.05)\n",
    "#print(z_c)\n",
    "se=(avg-0.75)/z_c\n",
    "#print(se)\n",
    "min_sample_size=(sd/se)**2\n",
    "print(min_sample_size)    #minimum sample size\n"
   ]
  },
  {
   "cell_type": "code",
   "execution_count": 3,
   "metadata": {
    "collapsed": true
   },
   "outputs": [],
   "source": [
    "#Null hypothesis: there is a difference between students who became knowledgeable and those did not\n",
    "#Alternative hypothesis: there is NO difference between studnets who became knowlegdeable and those did not\n",
    "#t-test can be used because we are comparing two samples"
   ]
  },
  {
   "cell_type": "code",
   "execution_count": 5,
   "metadata": {},
   "outputs": [
    {
     "name": "stdout",
     "output_type": "stream",
     "text": [
      "937\n",
      "1977\n",
      "0.7430304110448239\n",
      "0.6399545077035914\n",
      "0.007062948323443645\n",
      "1.0\n"
     ]
    }
   ],
   "source": [
    "myFile = open('eng0.txt')\n",
    "data2 = myFile.readlines()\n",
    "myFile.close()\n",
    "data2 = [float(x) for x in data2]\n",
    "size2=len(data2)        #the size of eng0\n",
    "avg2 = np.mean(data2)        #the mean of eng0\n",
    "print(size)\n",
    "print(size2)\n",
    "print(avg)\n",
    "print(avg2)\n",
    "sd2 = np.std(data2)    #the standard deviation of eng0\n",
    "ster=math.sqrt((sd**2/size)+(sd2**2/size2))\n",
    "print(ster)\n",
    "zc=(avg-avg2)/ster\n",
    "\n",
    "p =  sp.stats.norm.cdf(zc) #p score\n",
    "print(p)\n",
    "\n",
    "#Therefore, it is not significant and we can reject the null hypothesis. The value is too far way"
   ]
  },
  {
   "cell_type": "code",
   "execution_count": null,
   "metadata": {
    "collapsed": true
   },
   "outputs": [],
   "source": []
  }
 ],
 "metadata": {
  "kernelspec": {
   "display_name": "Python [default]",
   "language": "python",
   "name": "python3"
  }
 },
 "nbformat": 4,
 "nbformat_minor": 2
}
