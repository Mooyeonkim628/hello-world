{
 "cells": [
  {
   "cell_type": "code",
   "execution_count": 2,
   "metadata": {},
   "outputs": [
    {
     "name": "stdout",
     "output_type": "stream",
     "text": [
      "[3, -3, 3, 12, 15, -16, 17, 19, 23, -24, 32]\n"
     ]
    }
   ],
   "source": [
    "data=[3, -3, 3, 12, 15, -16, 17, 19, 23, -24, 32]\n",
    "print(data)\n",
    "\n",
    "from scipy.stats import norm\n",
    "import numpy as np\n",
    "import scipy as sp\n",
    "import math\n",
    "from scipy.stats import t"
   ]
  },
  {
   "cell_type": "code",
   "execution_count": 31,
   "metadata": {},
   "outputs": [
    {
     "name": "stdout",
     "output_type": "stream",
     "text": [
      "****************** 95% confidence interval*****************\n",
      "7.363636363636363\n",
      "5.0762776757504415\n",
      "2.2281388519649385\n",
      "(-3.9470151490654715, 18.674287876338198)\n"
     ]
    }
   ],
   "source": [
    "\n",
    "def Average(lst): \n",
    "    return sum(lst) / len(lst) \n",
    "\n",
    "print(\"****************** 95% confidence interval*****************\")\n",
    "avg= Average(data)\n",
    "print(avg)\n",
    "#sd = np.std(data, ddof=1)\n",
    "#print(sd)\n",
    "se=sd/math.sqrt(len(data))\n",
    "print(se)\n",
    "c=0.95\n",
    "t_c = sp.stats.t.ppf(1 - (1 - c)/2, len(data)-1)\n",
    "print(t_c)\n",
    "interval=(avg-(t_c*se),avg+(t_c*se))\n",
    "print(interval)\n",
    "\n"
   ]
  },
  {
   "cell_type": "code",
   "execution_count": 32,
   "metadata": {},
   "outputs": [
    {
     "name": "stdout",
     "output_type": "stream",
     "text": [
      "****************** 90% confidence interval*****************\n",
      "(-1.8369195722533416, 16.56419229952607)\n"
     ]
    }
   ],
   "source": [
    "print(\"****************** 90% confidence interval*****************\")\n",
    "c=0.9\n",
    "t_c = sp.stats.t.ppf(1 - (1 - c)/2, len(data)-1)\n",
    "#print(t_c)\n",
    "interval=(avg-(t_c*se),avg+(t_c*se))\n",
    "print(interval)\n",
    "\n",
    "# the interval of 95% confidence level is (-3.9470151490654715, 18.674287876338198). The interval of 90% confidence level is (-1.8369195722533416, 16.56419229952607)\n"
   ]
  },
  {
   "cell_type": "code",
   "execution_count": 33,
   "metadata": {},
   "outputs": [
    {
     "name": "stdout",
     "output_type": "stream",
     "text": [
      "******************standard deviation is 16.836*****************\n",
      "(-3.9469423369654386, 18.674215064238165)\n"
     ]
    }
   ],
   "source": [
    "print(\"******************standard deviation is 16.836*****************\")\n",
    "c=0.95\n",
    "t_c = sp.stats.t.ppf(1 - (1 - c)/2, len(data)-1)\n",
    "#print(t_c)\n",
    "s=16.836/math.sqrt(len(data))\n",
    "interval=(avg-(t_c*s),avg+(t_c*s))\n",
    "print(interval)\n",
    "\n",
    "# the interval of 95% confidence level is (-3.9470151490654715, 18.674287876338198). The interval of 90% confidence level is (-1.8369195722533416, 16.56419229952607). The interval when the standard deviation is 16.836 is (-3.9469423369654386, 18.674215064238165) "
   ]
  },
  {
   "cell_type": "code",
   "execution_count": 30,
   "metadata": {},
   "outputs": [
    {
     "name": "stdout",
     "output_type": "stream",
     "text": [
      "(0.008850930091913511, 14.718421797180813)\n"
     ]
    }
   ],
   "source": [
    "c=0.822\n",
    "t_c = sp.stats.t.ppf(1 - (1 - c)/2, len(data)-1)\n",
    "#print(t_c)\n",
    "interval=(avg-(t_c*se),avg+(t_c*se))\n",
    "print(interval)\n",
    "# 82.2% of confidence that the team is expected to win on average."
   ]
  },
  {
   "cell_type": "code",
   "execution_count": null,
   "metadata": {
    "collapsed": true
   },
   "outputs": [],
   "source": []
  },
  {
   "cell_type": "code",
   "execution_count": null,
   "metadata": {
    "collapsed": true
   },
   "outputs": [],
   "source": []
  }
 ],
 "metadata": {
  "kernelspec": {
   "display_name": "Python [default]",
   "language": "python",
   "name": "python3"
  },
  "language_info": {
   "codemirror_mode": {
    "name": "ipython",
    "version": 3
   },
   "file_extension": ".py",
   "mimetype": "text/x-python",
   "name": "python",
   "nbconvert_exporter": "python",
   "pygments_lexer": "ipython3",
   "version": "3.6.4"
  }
 },
 "nbformat": 4,
 "nbformat_minor": 2
}
